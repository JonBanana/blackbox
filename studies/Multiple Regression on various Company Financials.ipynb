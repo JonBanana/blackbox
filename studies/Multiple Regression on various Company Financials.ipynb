{
 "cells": [
  {
   "cell_type": "code",
   "execution_count": 2,
   "metadata": {},
   "outputs": [],
   "source": [
    "import json\n",
    "import pandas as pd\n",
    "from sklearn.linear_model import LinearRegression\n",
    "import numpy as np\n",
    "from sklearn.metrics import mean_squared_error, r2_score"
   ]
  },
  {
   "cell_type": "code",
   "execution_count": 16,
   "metadata": {},
   "outputs": [
    {
     "name": "stdout",
     "output_type": "stream",
     "text": [
      "Index(['Unnamed: 0', 'Ticker Symbol', 'Period Ending', 'Accounts Payable',\n",
      "       'Accounts Receivable', 'Add'l income/expense items', 'After Tax ROE',\n",
      "       'Capital Expenditures', 'Capital Surplus', 'Cash Ratio',\n",
      "       'Cash and Cash Equivalents', 'Changes in Inventories', 'Common Stocks',\n",
      "       'Cost of Revenue', 'Current Ratio', 'Deferred Asset Charges',\n",
      "       'Deferred Liability Charges', 'Depreciation',\n",
      "       'Earnings Before Interest and Tax', 'Earnings Before Tax',\n",
      "       'Effect of Exchange Rate',\n",
      "       'Equity Earnings/Loss Unconsolidated Subsidiary', 'Fixed Assets',\n",
      "       'Goodwill', 'Gross Margin', 'Gross Profit', 'Income Tax',\n",
      "       'Intangible Assets', 'Interest Expense', 'Inventory', 'Investments',\n",
      "       'Liabilities', 'Long-Term Debt', 'Long-Term Investments',\n",
      "       'Minority Interest', 'Misc. Stocks', 'Net Borrowings', 'Net Cash Flow',\n",
      "       'Net Cash Flow-Operating', 'Net Cash Flows-Financing',\n",
      "       'Net Cash Flows-Investing', 'Net Income', 'Net Income Adjustments',\n",
      "       'Net Income Applicable to Common Shareholders',\n",
      "       'Net Income-Cont. Operations', 'Net Receivables', 'Non-Recurring Items',\n",
      "       'Operating Income', 'Operating Margin', 'Other Assets',\n",
      "       'Other Current Assets', 'Other Current Liabilities', 'Other Equity',\n",
      "       'Other Financing Activities', 'Other Investing Activities',\n",
      "       'Other Liabilities', 'Other Operating Activities',\n",
      "       'Other Operating Items', 'Pre-Tax Margin', 'Pre-Tax ROE',\n",
      "       'Profit Margin', 'Quick Ratio', 'Research and Development',\n",
      "       'Retained Earnings', 'Sale and Purchase of Stock',\n",
      "       'Sales, General and Admin.',\n",
      "       'Short-Term Debt / Current Portion of Long-Term Debt',\n",
      "       'Short-Term Investments', 'Total Assets', 'Total Current Assets',\n",
      "       'Total Current Liabilities', 'Total Equity', 'Total Liabilities',\n",
      "       'Total Liabilities & Equity', 'Total Revenue', 'Treasury Stock',\n",
      "       'For Year', 'Earnings Per Share', 'Estimated Shares Outstanding'],\n",
      "      dtype='object')\n"
     ]
    }
   ],
   "source": [
    "fundamentals_path = '/home/michael/projects/blackbox/blackbox/static/assets/securities/fundamentals.csv'\n",
    "prices_path = '/home/michael/projects/blackbox/blackbox/static/assets/securities/prices.csv'\n",
    "\n",
    "fundamentals = pd.read_csv(fundamentals_path)\n",
    "prices = pd.read_csv(prices_path)\n",
    "\n",
    "f2016 = fundamentals.loc[fundamentals['Period Ending'].str.contains('2016')]\n",
    "tickers = f2016['Ticker Symbol']\n",
    "\n",
    "p2016 = prices.loc[prices['date'].str.contains('2016')]\n",
    "clean_p2016 = pd.DataFrame(tickers)\n",
    "clean_p2016['price'] = ''\n",
    "for ticker in tickers:\n",
    "    clean_p2016['price'].loc[clean_p2016.index[clean_p2016['Ticker Symbol'] == ticker]] = np.sum(p2016.loc[p2016['symbol'] == ticker]['open']) / len(p2016.loc[p2016['symbol'] == ticker]['open'])\n",
    "\n",
    "print(f2016.columns)"
   ]
  },
  {
   "cell_type": "code",
   "execution_count": 10,
   "metadata": {},
   "outputs": [],
   "source": [
    "train_X = f2016[:100] #[x.tolist() for x in f2016[:100].values]\n",
    "test_X = f2016[101:]\n",
    "\n",
    "train_y = clean_p2016[:100] \n",
    "test_y = clean_p2016[101:]\n",
    "\n",
    "train_y = train_y.drop(columns=['Ticker Symbol'])\n",
    "train_X = train_X.filter(['Net Income','Total Assets','Total Equity'])\n"
   ]
  },
  {
   "cell_type": "code",
   "execution_count": 11,
   "metadata": {},
   "outputs": [],
   "source": [
    "reg = LinearRegression().fit(train_X, train_y)"
   ]
  },
  {
   "cell_type": "code",
   "execution_count": 12,
   "metadata": {},
   "outputs": [],
   "source": [
    "test_X = test_X.filter(['Net Income','Total Assets','Total Equity'])\n",
    "test_y = test_y.drop(columns=['Ticker Symbol'])\n",
    "pred = reg.predict(test_X)"
   ]
  },
  {
   "cell_type": "code",
   "execution_count": 13,
   "metadata": {},
   "outputs": [
    {
     "data": {
      "text/html": [
       "<div>\n",
       "<style scoped>\n",
       "    .dataframe tbody tr th:only-of-type {\n",
       "        vertical-align: middle;\n",
       "    }\n",
       "\n",
       "    .dataframe tbody tr th {\n",
       "        vertical-align: top;\n",
       "    }\n",
       "\n",
       "    .dataframe thead th {\n",
       "        text-align: right;\n",
       "    }\n",
       "</style>\n",
       "<table border=\"1\" class=\"dataframe\">\n",
       "  <thead>\n",
       "    <tr style=\"text-align: right;\">\n",
       "      <th></th>\n",
       "      <th>Net Income</th>\n",
       "      <th>Total Assets</th>\n",
       "      <th>Total Equity</th>\n",
       "    </tr>\n",
       "  </thead>\n",
       "  <tbody>\n",
       "    <tr>\n",
       "      <th>798</th>\n",
       "      <td>374267000.0</td>\n",
       "      <td>2.857775e+09</td>\n",
       "      <td>2.310300e+07</td>\n",
       "    </tr>\n",
       "    <tr>\n",
       "      <th>802</th>\n",
       "      <td>890052000.0</td>\n",
       "      <td>6.370067e+09</td>\n",
       "      <td>4.448006e+09</td>\n",
       "    </tr>\n",
       "    <tr>\n",
       "      <th>806</th>\n",
       "      <td>324000000.0</td>\n",
       "      <td>1.199600e+10</td>\n",
       "      <td>3.056000e+09</td>\n",
       "    </tr>\n",
       "    <tr>\n",
       "      <th>822</th>\n",
       "      <td>614000000.0</td>\n",
       "      <td>2.539600e+10</td>\n",
       "      <td>1.068500e+10</td>\n",
       "    </tr>\n",
       "    <tr>\n",
       "      <th>837</th>\n",
       "      <td>461559000.0</td>\n",
       "      <td>3.687747e+09</td>\n",
       "      <td>1.848553e+09</td>\n",
       "    </tr>\n",
       "  </tbody>\n",
       "</table>\n",
       "</div>"
      ],
      "text/plain": [
       "      Net Income  Total Assets  Total Equity\n",
       "798  374267000.0  2.857775e+09  2.310300e+07\n",
       "802  890052000.0  6.370067e+09  4.448006e+09\n",
       "806  324000000.0  1.199600e+10  3.056000e+09\n",
       "822  614000000.0  2.539600e+10  1.068500e+10\n",
       "837  461559000.0  3.687747e+09  1.848553e+09"
      ]
     },
     "execution_count": 13,
     "metadata": {},
     "output_type": "execute_result"
    }
   ],
   "source": [
    "test_X.head()\n"
   ]
  },
  {
   "cell_type": "code",
   "execution_count": 14,
   "metadata": {},
   "outputs": [
    {
     "name": "stdout",
     "output_type": "stream",
     "text": [
      "-0.0049620197764124185\n"
     ]
    }
   ],
   "source": [
    "print(r2_score(test_y, pred))"
   ]
  },
  {
   "cell_type": "code",
   "execution_count": null,
   "metadata": {},
   "outputs": [],
   "source": []
  }
 ],
 "metadata": {
  "kernelspec": {
   "display_name": "Python 3",
   "language": "python",
   "name": "python3"
  },
  "language_info": {
   "codemirror_mode": {
    "name": "ipython",
    "version": 3
   },
   "file_extension": ".py",
   "mimetype": "text/x-python",
   "name": "python",
   "nbconvert_exporter": "python",
   "pygments_lexer": "ipython3",
   "version": "3.6.9"
  }
 },
 "nbformat": 4,
 "nbformat_minor": 4
}
